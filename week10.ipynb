from PIL import Image
from IPython.display import display
print("Mandelbrot set generated via",__vsc_ipynb_file__)
img=Image.effect_mandelbrot((512, 512),(-2.25, -1.5, 0.75, 1.5),100)
display(img)
